{
 "cells": [
  {
   "cell_type": "markdown",
   "id": "60b9003d",
   "metadata": {},
   "source": [
    "# NUMPY - Python Packages for Data Science\n",
    "Numerical Python, core package to deal with multidimensional data"
   ]
  },
  {
   "cell_type": "code",
   "execution_count": 105,
   "id": "a5cf52f0",
   "metadata": {},
   "outputs": [],
   "source": [
    "#### Importing libraries \n",
    "import numpy as np\n"
   ]
  },
  {
   "cell_type": "code",
   "execution_count": 42,
   "id": "6a8bc2f6",
   "metadata": {},
   "outputs": [],
   "source": [
    "# Numpy array\n",
    "a= np.array([0, 1, 2, 3])"
   ]
  },
  {
   "cell_type": "code",
   "execution_count": 43,
   "id": "20d209d6",
   "metadata": {},
   "outputs": [
    {
     "data": {
      "text/plain": [
       "numpy.ndarray"
      ]
     },
     "execution_count": 43,
     "metadata": {},
     "output_type": "execute_result"
    }
   ],
   "source": [
    "# Type \n",
    "a = np.array([0, 1, 2, 3])\n",
    "type(a)"
   ]
  },
  {
   "cell_type": "code",
   "execution_count": 44,
   "id": "9139533a",
   "metadata": {},
   "outputs": [
    {
     "data": {
      "text/plain": [
       "(4,)"
      ]
     },
     "execution_count": 44,
     "metadata": {},
     "output_type": "execute_result"
    }
   ],
   "source": [
    "# Shape of array \n",
    "a.shape"
   ]
  },
  {
   "cell_type": "code",
   "execution_count": 46,
   "id": "e95584fa",
   "metadata": {},
   "outputs": [
    {
     "data": {
      "text/plain": [
       "0"
      ]
     },
     "execution_count": 46,
     "metadata": {},
     "output_type": "execute_result"
    }
   ],
   "source": [
    "# Acessing index element\n",
    "a[0]"
   ]
  },
  {
   "cell_type": "code",
   "execution_count": 47,
   "id": "6907a931",
   "metadata": {},
   "outputs": [
    {
     "data": {
      "text/plain": [
       "3"
      ]
     },
     "execution_count": 47,
     "metadata": {},
     "output_type": "execute_result"
    }
   ],
   "source": [
    "# Acessing index element\n",
    "a[3]"
   ]
  },
  {
   "cell_type": "code",
   "execution_count": 49,
   "id": "8d184f71",
   "metadata": {},
   "outputs": [
    {
     "ename": "IndexError",
     "evalue": "index 4 is out of bounds for axis 0 with size 4",
     "output_type": "error",
     "traceback": [
      "\u001b[0;31m---------------------------------------------------------------------------\u001b[0m",
      "\u001b[0;31mIndexError\u001b[0m                                Traceback (most recent call last)",
      "\u001b[0;32m<ipython-input-49-87905f2ca11a>\u001b[0m in \u001b[0;36m<module>\u001b[0;34m\u001b[0m\n\u001b[1;32m      1\u001b[0m \u001b[0;31m# Acessing inexistent index element\u001b[0m\u001b[0;34m\u001b[0m\u001b[0;34m\u001b[0m\u001b[0;34m\u001b[0m\u001b[0m\n\u001b[0;32m----> 2\u001b[0;31m \u001b[0ma\u001b[0m\u001b[0;34m[\u001b[0m\u001b[0;36m4\u001b[0m\u001b[0;34m]\u001b[0m\u001b[0;34m\u001b[0m\u001b[0;34m\u001b[0m\u001b[0m\n\u001b[0m",
      "\u001b[0;31mIndexError\u001b[0m: index 4 is out of bounds for axis 0 with size 4"
     ]
    }
   ],
   "source": [
    "# Acessing inexistent index element\n",
    "a[4]"
   ]
  },
  {
   "cell_type": "code",
   "execution_count": 50,
   "id": "a7d2e00d",
   "metadata": {},
   "outputs": [
    {
     "data": {
      "text/plain": [
       "3"
      ]
     },
     "execution_count": 50,
     "metadata": {},
     "output_type": "execute_result"
    }
   ],
   "source": [
    "# Right-most element\n",
    "a[-1]"
   ]
  },
  {
   "cell_type": "code",
   "execution_count": 51,
   "id": "d19cbbb4",
   "metadata": {},
   "outputs": [
    {
     "data": {
      "text/plain": [
       "0"
      ]
     },
     "execution_count": 51,
     "metadata": {},
     "output_type": "execute_result"
    }
   ],
   "source": [
    "# Left-most (begin by -1)\n",
    "a[-4]"
   ]
  },
  {
   "cell_type": "code",
   "execution_count": 52,
   "id": "958dd703",
   "metadata": {},
   "outputs": [
    {
     "ename": "IndexError",
     "evalue": "index -5 is out of bounds for axis 0 with size 4",
     "output_type": "error",
     "traceback": [
      "\u001b[0;31m---------------------------------------------------------------------------\u001b[0m",
      "\u001b[0;31mIndexError\u001b[0m                                Traceback (most recent call last)",
      "\u001b[0;32m<ipython-input-52-14857d20a1c3>\u001b[0m in \u001b[0;36m<module>\u001b[0;34m\u001b[0m\n\u001b[1;32m      1\u001b[0m \u001b[0;31m# Acessing inexistent index element\u001b[0m\u001b[0;34m\u001b[0m\u001b[0;34m\u001b[0m\u001b[0;34m\u001b[0m\u001b[0m\n\u001b[0;32m----> 2\u001b[0;31m \u001b[0ma\u001b[0m\u001b[0;34m[\u001b[0m\u001b[0;34m-\u001b[0m\u001b[0;36m5\u001b[0m\u001b[0;34m]\u001b[0m\u001b[0;34m\u001b[0m\u001b[0;34m\u001b[0m\u001b[0m\n\u001b[0m",
      "\u001b[0;31mIndexError\u001b[0m: index -5 is out of bounds for axis 0 with size 4"
     ]
    }
   ],
   "source": [
    "# Acessing inexistent index element\n",
    "a[-5]"
   ]
  },
  {
   "cell_type": "code",
   "execution_count": 53,
   "id": "582984ea",
   "metadata": {},
   "outputs": [
    {
     "data": {
      "text/plain": [
       "array([], dtype=int64)"
      ]
     },
     "execution_count": 53,
     "metadata": {},
     "output_type": "execute_result"
    }
   ],
   "source": [
    "# Empty array\n",
    "a[:0]"
   ]
  },
  {
   "cell_type": "code",
   "execution_count": 54,
   "id": "b16b67a0",
   "metadata": {},
   "outputs": [
    {
     "data": {
      "text/plain": [
       "array([0, 1, 2, 3])"
      ]
     },
     "execution_count": 54,
     "metadata": {},
     "output_type": "execute_result"
    }
   ],
   "source": [
    "# Complete array\n",
    "a[0:]"
   ]
  },
  {
   "cell_type": "code",
   "execution_count": 55,
   "id": "c09a2d3d",
   "metadata": {},
   "outputs": [
    {
     "data": {
      "text/plain": [
       "array([1, 2, 3])"
      ]
     },
     "execution_count": 55,
     "metadata": {},
     "output_type": "execute_result"
    }
   ],
   "source": [
    "# Exclude index 0\n",
    "a[1:]"
   ]
  },
  {
   "cell_type": "code",
   "execution_count": 56,
   "id": "1163a492",
   "metadata": {},
   "outputs": [
    {
     "data": {
      "text/plain": [
       "array([0])"
      ]
     },
     "execution_count": 56,
     "metadata": {},
     "output_type": "execute_result"
    }
   ],
   "source": [
    "# Only element 0\n",
    "a[:1]"
   ]
  },
  {
   "cell_type": "code",
   "execution_count": 57,
   "id": "b618b84d",
   "metadata": {},
   "outputs": [
    {
     "data": {
      "text/plain": [
       "array([3])"
      ]
     },
     "execution_count": 57,
     "metadata": {},
     "output_type": "execute_result"
    }
   ],
   "source": [
    "# Only the last element\n",
    "a[[-1]]"
   ]
  },
  {
   "cell_type": "code",
   "execution_count": 58,
   "id": "3a981736",
   "metadata": {},
   "outputs": [
    {
     "data": {
      "text/plain": [
       "array([0, 1, 2])"
      ]
     },
     "execution_count": 58,
     "metadata": {},
     "output_type": "execute_result"
    }
   ],
   "source": [
    "# Eliminate the last element\n",
    "a[:-1]"
   ]
  },
  {
   "cell_type": "code",
   "execution_count": 59,
   "id": "c12b33ff",
   "metadata": {},
   "outputs": [
    {
     "data": {
      "text/plain": [
       "array([0, 2])"
      ]
     },
     "execution_count": 59,
     "metadata": {},
     "output_type": "execute_result"
    }
   ],
   "source": [
    "# Step\n",
    "a[::2]"
   ]
  },
  {
   "cell_type": "code",
   "execution_count": 60,
   "id": "a440dec8",
   "metadata": {},
   "outputs": [
    {
     "data": {
      "text/plain": [
       "array([1, 3])"
      ]
     },
     "execution_count": 60,
     "metadata": {},
     "output_type": "execute_result"
    }
   ],
   "source": [
    "# First index to the end, step 2\n",
    "a[1::2]"
   ]
  },
  {
   "cell_type": "markdown",
   "id": "f54aed9d",
   "metadata": {},
   "source": [
    "## Array types"
   ]
  },
  {
   "cell_type": "code",
   "execution_count": 64,
   "id": "3e7e49c9",
   "metadata": {},
   "outputs": [],
   "source": [
    "a = np.array([0, 1, 2, 3])\n",
    "b = np.array([0.0, 0.1, 0.2, 0.3])"
   ]
  },
  {
   "cell_type": "code",
   "execution_count": 65,
   "id": "09cf6349",
   "metadata": {},
   "outputs": [
    {
     "data": {
      "text/plain": [
       "numpy.ndarray"
      ]
     },
     "execution_count": 65,
     "metadata": {},
     "output_type": "execute_result"
    }
   ],
   "source": [
    "type(a)"
   ]
  },
  {
   "cell_type": "code",
   "execution_count": 66,
   "id": "aec7698a",
   "metadata": {},
   "outputs": [
    {
     "data": {
      "text/plain": [
       "dtype('int64')"
      ]
     },
     "execution_count": 66,
     "metadata": {},
     "output_type": "execute_result"
    }
   ],
   "source": [
    "a.dtype"
   ]
  },
  {
   "cell_type": "code",
   "execution_count": 67,
   "id": "2140a653",
   "metadata": {},
   "outputs": [
    {
     "data": {
      "text/plain": [
       "numpy.ndarray"
      ]
     },
     "execution_count": 67,
     "metadata": {},
     "output_type": "execute_result"
    }
   ],
   "source": [
    "type(b)"
   ]
  },
  {
   "cell_type": "code",
   "execution_count": 68,
   "id": "6ae59851",
   "metadata": {},
   "outputs": [
    {
     "data": {
      "text/plain": [
       "dtype('float64')"
      ]
     },
     "execution_count": 68,
     "metadata": {},
     "output_type": "execute_result"
    }
   ],
   "source": [
    "b.dtype"
   ]
  },
  {
   "cell_type": "code",
   "execution_count": 74,
   "id": "0c5cacd2",
   "metadata": {},
   "outputs": [
    {
     "data": {
      "text/plain": [
       "array([0. , 0.1, 2. , 0.3])"
      ]
     },
     "execution_count": 74,
     "metadata": {},
     "output_type": "execute_result"
    }
   ],
   "source": [
    "# Assigning a type inside the array to float\n",
    "c = np.array([0, 0.1, 2, 0.3], dtype = float)\n",
    "c"
   ]
  },
  {
   "cell_type": "code",
   "execution_count": 70,
   "id": "b6983fea",
   "metadata": {},
   "outputs": [
    {
     "data": {
      "text/plain": [
       "dtype('float64')"
      ]
     },
     "execution_count": 70,
     "metadata": {},
     "output_type": "execute_result"
    }
   ],
   "source": [
    "c.dtype"
   ]
  },
  {
   "cell_type": "code",
   "execution_count": 75,
   "id": "7be9e293",
   "metadata": {},
   "outputs": [
    {
     "data": {
      "text/plain": [
       "array([0, 1, 1, 3])"
      ]
     },
     "execution_count": 75,
     "metadata": {},
     "output_type": "execute_result"
    }
   ],
   "source": [
    "# Assigning a type inside the array to int\n",
    "# dangerous! \n",
    "d = np.array([0.0, 1, 1.2, 3.8], dtype = int)\n",
    "d"
   ]
  },
  {
   "cell_type": "code",
   "execution_count": 72,
   "id": "d9e37995",
   "metadata": {},
   "outputs": [
    {
     "data": {
      "text/plain": [
       "dtype('int64')"
      ]
     },
     "execution_count": 72,
     "metadata": {},
     "output_type": "execute_result"
    }
   ],
   "source": [
    "d.dtype"
   ]
  },
  {
   "cell_type": "markdown",
   "id": "54ed9480",
   "metadata": {},
   "source": [
    "## Dimensions and shapes "
   ]
  },
  {
   "cell_type": "code",
   "execution_count": 76,
   "id": "61891d08",
   "metadata": {},
   "outputs": [],
   "source": [
    "# One dimension\n",
    "a = np.array([0, 1 , 2, 3])"
   ]
  },
  {
   "cell_type": "code",
   "execution_count": 77,
   "id": "bbf25a4c",
   "metadata": {},
   "outputs": [
    {
     "data": {
      "text/plain": [
       "(4,)"
      ]
     },
     "execution_count": 77,
     "metadata": {},
     "output_type": "execute_result"
    }
   ],
   "source": [
    "a.shape"
   ]
  },
  {
   "cell_type": "code",
   "execution_count": 100,
   "id": "38cc901e",
   "metadata": {},
   "outputs": [],
   "source": [
    "# Multidimensional\n",
    "A = np.array([\n",
    "    [0, 1, 2, 3],\n",
    "    [4, 5, 6, 7],\n",
    "    [8, 9, 10, 11]])"
   ]
  },
  {
   "cell_type": "code",
   "execution_count": 101,
   "id": "399aba04",
   "metadata": {},
   "outputs": [
    {
     "data": {
      "text/plain": [
       "(3, 4)"
      ]
     },
     "execution_count": 101,
     "metadata": {},
     "output_type": "execute_result"
    }
   ],
   "source": [
    "A.shape"
   ]
  },
  {
   "cell_type": "code",
   "execution_count": 102,
   "id": "be7263ce",
   "metadata": {},
   "outputs": [
    {
     "data": {
      "text/plain": [
       "2"
      ]
     },
     "execution_count": 102,
     "metadata": {},
     "output_type": "execute_result"
    }
   ],
   "source": [
    "# Number of dimensions of A\n",
    "A.ndim"
   ]
  },
  {
   "cell_type": "code",
   "execution_count": 91,
   "id": "bd4d39ae",
   "metadata": {},
   "outputs": [],
   "source": [
    "# 2 matrices X 3 rows x 2 columns\n",
    "B = np.array([[\n",
    "        [0, 1],\n",
    "        [3, 4],\n",
    "        [6, 7]],\n",
    "    \n",
    "        [[0, 1],\n",
    "        [3, 4],\n",
    "        [6, 7]]])\n"
   ]
  },
  {
   "cell_type": "code",
   "execution_count": 92,
   "id": "19f33365",
   "metadata": {},
   "outputs": [
    {
     "data": {
      "text/plain": [
       "(2, 3, 2)"
      ]
     },
     "execution_count": 92,
     "metadata": {},
     "output_type": "execute_result"
    }
   ],
   "source": [
    "B.shape"
   ]
  },
  {
   "cell_type": "code",
   "execution_count": 99,
   "id": "605d1a5e",
   "metadata": {},
   "outputs": [
    {
     "data": {
      "text/plain": [
       "3"
      ]
     },
     "execution_count": 99,
     "metadata": {},
     "output_type": "execute_result"
    }
   ],
   "source": [
    "# number of dimensions of B\n",
    "B.ndim"
   ]
  },
  {
   "cell_type": "code",
   "execution_count": 104,
   "id": "b2e4f39b",
   "metadata": {},
   "outputs": [
    {
     "data": {
      "text/plain": [
       "12"
      ]
     },
     "execution_count": 104,
     "metadata": {},
     "output_type": "execute_result"
    }
   ],
   "source": [
    "# Number of elements of B\n",
    "B.size"
   ]
  },
  {
   "cell_type": "code",
   "execution_count": 95,
   "id": "5c7e59ae",
   "metadata": {},
   "outputs": [],
   "source": [
    "# 3 matrices, 3 rows, 3 columns\n",
    "C = np.array([\n",
    "    [\n",
    "        [0, 1,2],\n",
    "        [3, 4, 5],\n",
    "        [6, 7, 8]\n",
    "    ],\n",
    "    [\n",
    "        [12, 13, 14],\n",
    "        [15, 16, 17],\n",
    "        [18, 19, 10]\n",
    "    ],\n",
    "     [\n",
    "        [17, 13, 21],\n",
    "        [15, 99, 55],\n",
    "        [18, 0, 10]\n",
    "    ]\n",
    "])"
   ]
  },
  {
   "cell_type": "code",
   "execution_count": 96,
   "id": "102891d6",
   "metadata": {},
   "outputs": [
    {
     "data": {
      "text/plain": [
       "(3, 3, 3)"
      ]
     },
     "execution_count": 96,
     "metadata": {},
     "output_type": "execute_result"
    }
   ],
   "source": [
    "C.shape"
   ]
  },
  {
   "cell_type": "code",
   "execution_count": 98,
   "id": "9cf7fad8",
   "metadata": {},
   "outputs": [
    {
     "data": {
      "text/plain": [
       "3"
      ]
     },
     "execution_count": 98,
     "metadata": {},
     "output_type": "execute_result"
    }
   ],
   "source": [
    "# Number of dimensions of C\n",
    "C.ndim"
   ]
  },
  {
   "cell_type": "code",
   "execution_count": 103,
   "id": "13a072b7",
   "metadata": {},
   "outputs": [
    {
     "data": {
      "text/plain": [
       "27"
      ]
     },
     "execution_count": 103,
     "metadata": {},
     "output_type": "execute_result"
    }
   ],
   "source": [
    "#Number of elements of C\n",
    "C.size"
   ]
  },
  {
   "cell_type": "markdown",
   "id": "24932ebd",
   "metadata": {},
   "source": [
    "## Working with Matrices"
   ]
  },
  {
   "cell_type": "code",
   "execution_count": 2,
   "id": "be09d3b2",
   "metadata": {},
   "outputs": [],
   "source": [
    "# Indexing slices of matrices\n",
    "A = np.array([\n",
    "    [0, 1 , 2, 3],\n",
    "    [4, 5, 6, 7]])"
   ]
  },
  {
   "cell_type": "code",
   "execution_count": 3,
   "id": "bb40097c",
   "metadata": {},
   "outputs": [
    {
     "data": {
      "text/plain": [
       "(2, 4)"
      ]
     },
     "execution_count": 3,
     "metadata": {},
     "output_type": "execute_result"
    }
   ],
   "source": [
    "# Shape of matrix\n",
    "A.shape"
   ]
  },
  {
   "cell_type": "code",
   "execution_count": 4,
   "id": "2d651183",
   "metadata": {},
   "outputs": [
    {
     "data": {
      "text/plain": [
       "array([0, 1, 2, 3])"
      ]
     },
     "execution_count": 4,
     "metadata": {},
     "output_type": "execute_result"
    }
   ],
   "source": [
    "# Row 0\n",
    "A[0]"
   ]
  },
  {
   "cell_type": "code",
   "execution_count": 5,
   "id": "d23cc918",
   "metadata": {},
   "outputs": [
    {
     "data": {
      "text/plain": [
       "array([4, 5, 6, 7])"
      ]
     },
     "execution_count": 5,
     "metadata": {},
     "output_type": "execute_result"
    }
   ],
   "source": [
    "# Row 1\n",
    "A[1]"
   ]
  },
  {
   "cell_type": "code",
   "execution_count": 6,
   "id": "d5b0ea41",
   "metadata": {},
   "outputs": [
    {
     "data": {
      "text/plain": [
       "array([], shape=(0, 4), dtype=int64)"
      ]
     },
     "execution_count": 6,
     "metadata": {},
     "output_type": "execute_result"
    }
   ],
   "source": [
    "# Empty array\n",
    "A[:0]"
   ]
  },
  {
   "cell_type": "code",
   "execution_count": 7,
   "id": "a5bb9e6c",
   "metadata": {},
   "outputs": [
    {
     "data": {
      "text/plain": [
       "array([[0, 1, 2, 3]])"
      ]
     },
     "execution_count": 7,
     "metadata": {},
     "output_type": "execute_result"
    }
   ],
   "source": [
    "# All from the First row \n",
    "A[:1]"
   ]
  },
  {
   "cell_type": "code",
   "execution_count": 8,
   "id": "656e0558",
   "metadata": {},
   "outputs": [
    {
     "data": {
      "text/plain": [
       "array([0, 4])"
      ]
     },
     "execution_count": 8,
     "metadata": {},
     "output_type": "execute_result"
    }
   ],
   "source": [
    "# indentify the zeroes in every row\n",
    "A[:,0]"
   ]
  },
  {
   "cell_type": "code",
   "execution_count": 16,
   "id": "2d2e10b0",
   "metadata": {},
   "outputs": [
    {
     "data": {
      "text/plain": [
       "0"
      ]
     },
     "execution_count": 16,
     "metadata": {},
     "output_type": "execute_result"
    }
   ],
   "source": [
    "# Row 0 Column 0\n",
    "A[0,0]"
   ]
  },
  {
   "cell_type": "code",
   "execution_count": 12,
   "id": "300f2cbd",
   "metadata": {},
   "outputs": [
    {
     "data": {
      "text/plain": [
       "7"
      ]
     },
     "execution_count": 12,
     "metadata": {},
     "output_type": "execute_result"
    }
   ],
   "source": [
    "# Row 1 Column 3\n",
    "A[1,3]"
   ]
  },
  {
   "cell_type": "code",
   "execution_count": 15,
   "id": "bf085c99",
   "metadata": {},
   "outputs": [
    {
     "data": {
      "text/plain": [
       "array([[1, 2],\n",
       "       [5, 6]])"
      ]
     },
     "execution_count": 15,
     "metadata": {},
     "output_type": "execute_result"
    }
   ],
   "source": [
    "#Slice: Every row but only first and second columns\n",
    "A[:,1:3]"
   ]
  },
  {
   "cell_type": "code",
   "execution_count": 17,
   "id": "d46e7c7d",
   "metadata": {},
   "outputs": [
    {
     "data": {
      "text/plain": [
       "array([[ 8,  9, 10, 11],\n",
       "       [ 4,  5,  6,  7]])"
      ]
     },
     "execution_count": 17,
     "metadata": {},
     "output_type": "execute_result"
    }
   ],
   "source": [
    "# Modification: replace whole row 0\n",
    "A[0] = np.array([8, 9, 10, 11])\n",
    "A"
   ]
  },
  {
   "cell_type": "code",
   "execution_count": 19,
   "id": "eb58d462",
   "metadata": {},
   "outputs": [
    {
     "data": {
      "text/plain": [
       "array([[ 8,  9, 10, 11],\n",
       "       [98, 98, 98, 98]])"
      ]
     },
     "execution_count": 19,
     "metadata": {},
     "output_type": "execute_result"
    }
   ],
   "source": [
    "# Replace one row with only one value\n",
    "A[1] = 98\n",
    "A"
   ]
  },
  {
   "cell_type": "markdown",
   "id": "5da7d12d",
   "metadata": {},
   "source": [
    "## Statistics"
   ]
  },
  {
   "cell_type": "markdown",
   "id": "aae569ac",
   "metadata": {},
   "source": [
    "#### Statistics with one dimension array"
   ]
  },
  {
   "cell_type": "code",
   "execution_count": 20,
   "id": "e6a25de3",
   "metadata": {},
   "outputs": [],
   "source": [
    "a = np.array([0, 1 , 2 , 3, 4])"
   ]
  },
  {
   "cell_type": "code",
   "execution_count": 21,
   "id": "1235e975",
   "metadata": {},
   "outputs": [
    {
     "data": {
      "text/plain": [
       "10"
      ]
     },
     "execution_count": 21,
     "metadata": {},
     "output_type": "execute_result"
    }
   ],
   "source": [
    "# Sum all elements in the array\n",
    "a.sum()"
   ]
  },
  {
   "cell_type": "code",
   "execution_count": 22,
   "id": "ff752658",
   "metadata": {},
   "outputs": [
    {
     "data": {
      "text/plain": [
       "2.0"
      ]
     },
     "execution_count": 22,
     "metadata": {},
     "output_type": "execute_result"
    }
   ],
   "source": [
    "# Mean of the array\n",
    "a.mean()"
   ]
  },
  {
   "cell_type": "code",
   "execution_count": 23,
   "id": "a47619ca",
   "metadata": {},
   "outputs": [
    {
     "data": {
      "text/plain": [
       "1.4142135623730951"
      ]
     },
     "execution_count": 23,
     "metadata": {},
     "output_type": "execute_result"
    }
   ],
   "source": [
    "# Standart variation \n",
    "a.std()"
   ]
  },
  {
   "cell_type": "code",
   "execution_count": 24,
   "id": "79d3bf73",
   "metadata": {},
   "outputs": [
    {
     "data": {
      "text/plain": [
       "2.0"
      ]
     },
     "execution_count": 24,
     "metadata": {},
     "output_type": "execute_result"
    }
   ],
   "source": [
    "# Variation\n",
    "a.var()"
   ]
  },
  {
   "cell_type": "code",
   "execution_count": 25,
   "id": "de8a611e",
   "metadata": {},
   "outputs": [
    {
     "data": {
      "text/plain": [
       "4"
      ]
     },
     "execution_count": 25,
     "metadata": {},
     "output_type": "execute_result"
    }
   ],
   "source": [
    "# Max\n",
    "a.max()"
   ]
  },
  {
   "cell_type": "code",
   "execution_count": 26,
   "id": "1cf09775",
   "metadata": {},
   "outputs": [
    {
     "data": {
      "text/plain": [
       "0"
      ]
     },
     "execution_count": 26,
     "metadata": {},
     "output_type": "execute_result"
    }
   ],
   "source": [
    "# Min\n",
    "a.min()"
   ]
  },
  {
   "cell_type": "markdown",
   "id": "342efac6",
   "metadata": {},
   "source": [
    "#### Statistics with Multidimensional Arrays"
   ]
  },
  {
   "cell_type": "code",
   "execution_count": 29,
   "id": "d131d5f9",
   "metadata": {},
   "outputs": [],
   "source": [
    "B = np.array ([\n",
    "             [0, 1, 2, 3],\n",
    "             [4, 5, 6, 7],\n",
    "             [8, 9, 10, 11]])"
   ]
  },
  {
   "cell_type": "code",
   "execution_count": 30,
   "id": "c3bcb469",
   "metadata": {},
   "outputs": [
    {
     "data": {
      "text/plain": [
       "66"
      ]
     },
     "execution_count": 30,
     "metadata": {},
     "output_type": "execute_result"
    }
   ],
   "source": [
    "B.sum()"
   ]
  },
  {
   "cell_type": "code",
   "execution_count": 31,
   "id": "c3b44f39",
   "metadata": {},
   "outputs": [
    {
     "data": {
      "text/plain": [
       "5.5"
      ]
     },
     "execution_count": 31,
     "metadata": {},
     "output_type": "execute_result"
    }
   ],
   "source": [
    "B.mean()"
   ]
  },
  {
   "cell_type": "code",
   "execution_count": 32,
   "id": "a7f5b6a8",
   "metadata": {},
   "outputs": [
    {
     "data": {
      "text/plain": [
       "3.452052529534663"
      ]
     },
     "execution_count": 32,
     "metadata": {},
     "output_type": "execute_result"
    }
   ],
   "source": [
    "B.std()"
   ]
  },
  {
   "cell_type": "code",
   "execution_count": 33,
   "id": "27183562",
   "metadata": {},
   "outputs": [
    {
     "data": {
      "text/plain": [
       "11.916666666666666"
      ]
     },
     "execution_count": 33,
     "metadata": {},
     "output_type": "execute_result"
    }
   ],
   "source": [
    "B.var()"
   ]
  },
  {
   "cell_type": "code",
   "execution_count": 34,
   "id": "b7b2e6f1",
   "metadata": {},
   "outputs": [
    {
     "data": {
      "text/plain": [
       "11"
      ]
     },
     "execution_count": 34,
     "metadata": {},
     "output_type": "execute_result"
    }
   ],
   "source": [
    "B.max()"
   ]
  },
  {
   "cell_type": "code",
   "execution_count": 35,
   "id": "3ba71b1a",
   "metadata": {},
   "outputs": [
    {
     "data": {
      "text/plain": [
       "0"
      ]
     },
     "execution_count": 35,
     "metadata": {},
     "output_type": "execute_result"
    }
   ],
   "source": [
    "B.min()"
   ]
  },
  {
   "cell_type": "code",
   "execution_count": 36,
   "id": "79ce1e77",
   "metadata": {},
   "outputs": [
    {
     "data": {
      "text/plain": [
       "array([12, 15, 18, 21])"
      ]
     },
     "execution_count": 36,
     "metadata": {},
     "output_type": "execute_result"
    }
   ],
   "source": [
    "# Sum the columns (axis 0)\n",
    "B.sum(axis=0)"
   ]
  },
  {
   "cell_type": "code",
   "execution_count": 37,
   "id": "e7c6f22c",
   "metadata": {},
   "outputs": [
    {
     "data": {
      "text/plain": [
       "array([ 6, 22, 38])"
      ]
     },
     "execution_count": 37,
     "metadata": {},
     "output_type": "execute_result"
    }
   ],
   "source": [
    "# Sum the lines (axis 1)\n",
    "B.sum(axis=1)"
   ]
  },
  {
   "cell_type": "code",
   "execution_count": 38,
   "id": "6b47718e",
   "metadata": {},
   "outputs": [
    {
     "data": {
      "text/plain": [
       "array([53. , 53.5, 54. , 54.5])"
      ]
     },
     "execution_count": 38,
     "metadata": {},
     "output_type": "execute_result"
    }
   ],
   "source": [
    "# Mean of the columns (axis 0)\n",
    "A.mean(axis=0)"
   ]
  },
  {
   "cell_type": "code",
   "execution_count": 39,
   "id": "1bae085c",
   "metadata": {},
   "outputs": [
    {
     "data": {
      "text/plain": [
       "array([ 9.5, 98. ])"
      ]
     },
     "execution_count": 39,
     "metadata": {},
     "output_type": "execute_result"
    }
   ],
   "source": [
    "# Mean of the lines (axis 1)\n",
    "A.mean(axis=1)"
   ]
  },
  {
   "cell_type": "markdown",
   "id": "95bb1add",
   "metadata": {},
   "source": [
    "## Linear Algebra "
   ]
  },
  {
   "cell_type": "code",
   "execution_count": 106,
   "id": "78a52c6c",
   "metadata": {},
   "outputs": [],
   "source": [
    "A = np.array([\n",
    "    [0, 1, 2],\n",
    "    [3, 4, 5]])\n",
    "\n",
    "B = np.array([\n",
    "    [6, 7, 8],\n",
    "    [9, 10, 11]])"
   ]
  },
  {
   "cell_type": "code",
   "execution_count": 107,
   "id": "8b685c10",
   "metadata": {},
   "outputs": [
    {
     "data": {
      "text/plain": [
       "array([[0, 1, 2],\n",
       "       [3, 4, 5]])"
      ]
     },
     "execution_count": 107,
     "metadata": {},
     "output_type": "execute_result"
    }
   ],
   "source": [
    "A"
   ]
  },
  {
   "cell_type": "code",
   "execution_count": 109,
   "id": "8f4acdbb",
   "metadata": {},
   "outputs": [
    {
     "data": {
      "text/plain": [
       "array([[ 6,  7,  8],\n",
       "       [ 9, 10, 11]])"
      ]
     },
     "execution_count": 109,
     "metadata": {},
     "output_type": "execute_result"
    }
   ],
   "source": [
    "B"
   ]
  },
  {
   "cell_type": "code",
   "execution_count": 110,
   "id": "56069a85",
   "metadata": {},
   "outputs": [
    {
     "data": {
      "text/plain": [
       "array([[ 6,  8, 10],\n",
       "       [12, 14, 16]])"
      ]
     },
     "execution_count": 110,
     "metadata": {},
     "output_type": "execute_result"
    }
   ],
   "source": [
    "# First element added to first element and so on (pairwise)\n",
    "A + B"
   ]
  },
  {
   "cell_type": "code",
   "execution_count": 111,
   "id": "b26f23d0",
   "metadata": {},
   "outputs": [
    {
     "data": {
      "text/plain": [
       "array([[-6, -6, -6],\n",
       "       [-6, -6, -6]])"
      ]
     },
     "execution_count": 111,
     "metadata": {},
     "output_type": "execute_result"
    }
   ],
   "source": [
    "# First element minus to first element and so on (pairwise)\n",
    "A - B"
   ]
  },
  {
   "cell_type": "code",
   "execution_count": 112,
   "id": "15d26160",
   "metadata": {},
   "outputs": [
    {
     "data": {
      "text/plain": [
       "array([[ 0,  7, 16],\n",
       "       [27, 40, 55]])"
      ]
     },
     "execution_count": 112,
     "metadata": {},
     "output_type": "execute_result"
    }
   ],
   "source": [
    "# Not the product, just the pairwise\n",
    "A * B"
   ]
  },
  {
   "cell_type": "code",
   "execution_count": 113,
   "id": "020840cd",
   "metadata": {},
   "outputs": [
    {
     "data": {
      "text/plain": [
       "array([[ 6,  9],\n",
       "       [ 7, 10],\n",
       "       [ 8, 11]])"
      ]
     },
     "execution_count": 113,
     "metadata": {},
     "output_type": "execute_result"
    }
   ],
   "source": [
    "# Transpose  of B\n",
    "B.T"
   ]
  },
  {
   "cell_type": "code",
   "execution_count": 118,
   "id": "a39a3011",
   "metadata": {
    "scrolled": true
   },
   "outputs": [
    {
     "data": {
      "text/plain": [
       "array([[ 23,  32],\n",
       "       [ 86, 122]])"
      ]
     },
     "execution_count": 118,
     "metadata": {},
     "output_type": "execute_result"
    }
   ],
   "source": [
    "# A transpose to B production\n",
    "A @ (B.T)"
   ]
  },
  {
   "cell_type": "code",
   "execution_count": 116,
   "id": "a3aa1bb1",
   "metadata": {
    "scrolled": true
   },
   "outputs": [
    {
     "data": {
      "text/plain": [
       "array([[0, 3],\n",
       "       [1, 4],\n",
       "       [2, 5]])"
      ]
     },
     "execution_count": 116,
     "metadata": {},
     "output_type": "execute_result"
    }
   ],
   "source": [
    "A.T"
   ]
  },
  {
   "cell_type": "code",
   "execution_count": 119,
   "id": "8216c7e2",
   "metadata": {},
   "outputs": [
    {
     "data": {
      "text/plain": [
       "array([[27, 30, 33],\n",
       "       [42, 47, 52],\n",
       "       [57, 64, 71]])"
      ]
     },
     "execution_count": 119,
     "metadata": {},
     "output_type": "execute_result"
    }
   ],
   "source": [
    "(A.T) @ B"
   ]
  },
  {
   "cell_type": "markdown",
   "id": "2d2ad24f",
   "metadata": {},
   "source": [
    "**Reminder:** Matrix Multiplication A<sub>mn</sub> x B<sub>np</sub>  = C<sub>mp</sub> "
   ]
  },
  {
   "cell_type": "markdown",
   "id": "f3d98a56",
   "metadata": {},
   "source": [
    "# Useful functions"
   ]
  },
  {
   "cell_type": "code",
   "execution_count": 121,
   "id": "f2e15628",
   "metadata": {
    "scrolled": true
   },
   "outputs": [
    {
     "data": {
      "text/plain": [
       "array([0, 1, 2, 3, 4, 5, 6, 7, 8, 9])"
      ]
     },
     "execution_count": 121,
     "metadata": {},
     "output_type": "execute_result"
    }
   ],
   "source": [
    "# Creates a Range\n",
    "np.arange(10)"
   ]
  },
  {
   "cell_type": "code",
   "execution_count": 122,
   "id": "9e8d4657",
   "metadata": {},
   "outputs": [
    {
     "data": {
      "text/plain": [
       "array([5, 6, 7, 8, 9])"
      ]
     },
     "execution_count": 122,
     "metadata": {},
     "output_type": "execute_result"
    }
   ],
   "source": [
    "# Creates a Range with lower and upper bounds\n",
    "np.arange(5,10)"
   ]
  },
  {
   "cell_type": "code",
   "execution_count": 123,
   "id": "0b83e5e7",
   "metadata": {},
   "outputs": [
    {
     "data": {
      "text/plain": [
       "array([1, 3, 5, 7, 9])"
      ]
     },
     "execution_count": 123,
     "metadata": {},
     "output_type": "execute_result"
    }
   ],
   "source": [
    "# Creates a Range with lower and upper bounds and STEP\n",
    "np.arange(1,10,2)"
   ]
  },
  {
   "cell_type": "code",
   "execution_count": 125,
   "id": "0da0871b",
   "metadata": {},
   "outputs": [
    {
     "data": {
      "text/plain": [
       "array([5. , 5.5, 6. , 6.5, 7. , 7.5, 8. , 8.5, 9. , 9.5])"
      ]
     },
     "execution_count": 125,
     "metadata": {},
     "output_type": "execute_result"
    }
   ],
   "source": [
    "np.arange(5,10,0.5)"
   ]
  },
  {
   "cell_type": "code",
   "execution_count": 126,
   "id": "dcd02bc4",
   "metadata": {},
   "outputs": [
    {
     "data": {
      "text/plain": [
       "array([[0, 1],\n",
       "       [2, 3],\n",
       "       [4, 5],\n",
       "       [6, 7],\n",
       "       [8, 9]])"
      ]
     },
     "execution_count": 126,
     "metadata": {},
     "output_type": "execute_result"
    }
   ],
   "source": [
    "# Creates a new arrangement for the elements in 5 rows and 2 columns\n",
    "np.arange(10).reshape(5,2)"
   ]
  },
  {
   "cell_type": "code",
   "execution_count": 127,
   "id": "eed88bb2",
   "metadata": {},
   "outputs": [
    {
     "data": {
      "text/plain": [
       "array([[ 0,  1,  2,  3],\n",
       "       [ 4,  5,  6,  7],\n",
       "       [ 8,  9, 10, 11]])"
      ]
     },
     "execution_count": 127,
     "metadata": {},
     "output_type": "execute_result"
    }
   ],
   "source": [
    "np.arange(12).reshape(3,4)"
   ]
  },
  {
   "cell_type": "code",
   "execution_count": 129,
   "id": "0186706c",
   "metadata": {},
   "outputs": [
    {
     "data": {
      "text/plain": [
       "array([9, 4, 6, 7, 1, 6, 4, 4, 9, 0])"
      ]
     },
     "execution_count": 129,
     "metadata": {},
     "output_type": "execute_result"
    }
   ],
   "source": [
    "# (10) random elements in a one dimensional array - From 0 to 10\n",
    "np.random.randint(0, 10, (10))"
   ]
  },
  {
   "cell_type": "code",
   "execution_count": 131,
   "id": "483358d5",
   "metadata": {},
   "outputs": [
    {
     "data": {
      "text/plain": [
       "array([[7, 0],\n",
       "       [8, 5],\n",
       "       [0, 9],\n",
       "       [4, 1],\n",
       "       [0, 8]])"
      ]
     },
     "execution_count": 131,
     "metadata": {},
     "output_type": "execute_result"
    }
   ],
   "source": [
    "# (5 * 2 = 10) random elements in a multidimensional array - From 0 to 10, 5 rows, 2 columns\n",
    "np.random.randint(0,10,(5,2))"
   ]
  },
  {
   "cell_type": "code",
   "execution_count": 133,
   "id": "9e15b2fc",
   "metadata": {},
   "outputs": [
    {
     "data": {
      "text/plain": [
       "array([[0.00467918, 0.58963539, 0.17182176, 0.32438655],\n",
       "       [0.23386745, 0.45046653, 0.94498954, 0.51881182]])"
      ]
     },
     "execution_count": 133,
     "metadata": {},
     "output_type": "execute_result"
    }
   ],
   "source": [
    "#For random floats use rand\n",
    "np.random.rand(2,4)"
   ]
  },
  {
   "cell_type": "code",
   "execution_count": 136,
   "id": "d3be1c2a",
   "metadata": {},
   "outputs": [
    {
     "data": {
      "text/plain": [
       "array([ 0.07118687,  0.09239519, -0.27434743,  0.05389689,  0.07811081,\n",
       "       -0.01817306, -0.00597366,  0.07361681, -0.11178819, -0.01540059])"
      ]
     },
     "execution_count": 136,
     "metadata": {},
     "output_type": "execute_result"
    }
   ],
   "source": [
    "# Random with normal distribution (center, std (shape))\n",
    "np.random.normal(0, 0.1, (10))"
   ]
  },
  {
   "cell_type": "code",
   "execution_count": 137,
   "id": "affd0fda",
   "metadata": {},
   "outputs": [
    {
     "data": {
      "text/plain": [
       "array([[ 0.03044842, -0.0747525 , -0.11478088, -0.09193022, -0.08822379],\n",
       "       [-0.24219036, -0.28569026,  0.10836307, -0.12550953, -0.02610988]])"
      ]
     },
     "execution_count": 137,
     "metadata": {},
     "output_type": "execute_result"
    }
   ],
   "source": [
    "# # Random with normal distribution (center, std (shape))\n",
    "np.random.normal(0,0.1, (2,5))"
   ]
  },
  {
   "cell_type": "code",
   "execution_count": 138,
   "id": "eda4bd5c",
   "metadata": {},
   "outputs": [
    {
     "data": {
      "text/plain": [
       "array([[0.99250991, 0.52847786, 0.47716601, 0.22469572],\n",
       "       [0.54012263, 0.93576771, 0.32928231, 0.83638823],\n",
       "       [0.22916865, 0.01988493, 0.43941418, 0.60559206]])"
      ]
     },
     "execution_count": 138,
     "metadata": {},
     "output_type": "execute_result"
    }
   ],
   "source": [
    "# Uniform distribution (shape)\n",
    "np.random.uniform(0, 1, (3, 4))"
   ]
  },
  {
   "cell_type": "code",
   "execution_count": 141,
   "id": "76193a79",
   "metadata": {},
   "outputs": [
    {
     "data": {
      "text/plain": [
       "array([[0.24492367, 0.379793  , 0.43216718, 0.58469802, 0.95394675],\n",
       "       [0.00565289, 0.49064552, 0.52968636, 0.70904953, 0.96952875]])"
      ]
     },
     "execution_count": 141,
     "metadata": {},
     "output_type": "execute_result"
    }
   ],
   "source": [
    "# Sorting the random uniform distribution\n",
    "a = np.random.uniform(0, 1, (2, 5))\n",
    "np.sort(a)"
   ]
  },
  {
   "cell_type": "code",
   "execution_count": 142,
   "id": "ed916a28",
   "metadata": {},
   "outputs": [
    {
     "data": {
      "text/plain": [
       "array([0., 0., 0., 0., 0.])"
      ]
     },
     "execution_count": 142,
     "metadata": {},
     "output_type": "execute_result"
    }
   ],
   "source": [
    "# Fill matrices with zeros\n",
    "np.zeros(5)"
   ]
  },
  {
   "cell_type": "code",
   "execution_count": 143,
   "id": "a2e51620",
   "metadata": {
    "scrolled": true
   },
   "outputs": [
    {
     "data": {
      "text/plain": [
       "array([[1., 1., 1.],\n",
       "       [1., 1., 1.]])"
      ]
     },
     "execution_count": 143,
     "metadata": {},
     "output_type": "execute_result"
    }
   ],
   "source": [
    "# Fill matrices with 1s\n",
    "np.ones((2,3))"
   ]
  },
  {
   "cell_type": "code",
   "execution_count": 146,
   "id": "97312b65",
   "metadata": {},
   "outputs": [
    {
     "data": {
      "text/plain": [
       "array([[1, 1, 1, 1, 1, 1, 1, 1],\n",
       "       [1, 1, 1, 1, 1, 1, 1, 1],\n",
       "       [1, 1, 1, 1, 1, 1, 1, 1]])"
      ]
     },
     "execution_count": 146,
     "metadata": {},
     "output_type": "execute_result"
    }
   ],
   "source": [
    "# Fill +  type\n",
    "np.ones((3,8), dtype=int)"
   ]
  },
  {
   "cell_type": "markdown",
   "id": "84fca47c",
   "metadata": {},
   "source": [
    "### See you soon! "
   ]
  }
 ],
 "metadata": {
  "kernelspec": {
   "display_name": "Python 3",
   "language": "python",
   "name": "python3"
  },
  "language_info": {
   "codemirror_mode": {
    "name": "ipython",
    "version": 3
   },
   "file_extension": ".py",
   "mimetype": "text/x-python",
   "name": "python",
   "nbconvert_exporter": "python",
   "pygments_lexer": "ipython3",
   "version": "3.8.8"
  }
 },
 "nbformat": 4,
 "nbformat_minor": 5
}
